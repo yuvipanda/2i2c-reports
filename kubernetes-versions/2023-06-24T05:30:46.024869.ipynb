{
 "cells": [
  {
   "cell_type": "markdown",
   "id": "8a3381d9-433c-474f-816b-b610807ebebf",
   "metadata": {
    "papermill": {
     "duration": null,
     "end_time": null,
     "exception": null,
     "start_time": null,
     "status": "completed"
    },
    "tags": []
   },
   "source": [
    "# Kubernetes Cluster Versions Report\n",
    "\n",
    "This report loops through all the clusters we maintain, and reports their master and node versions"
   ]
  },
  {
   "cell_type": "code",
   "execution_count": null,
   "id": "54d06443-9157-45af-a737-eaa48bd369d1",
   "metadata": {
    "papermill": {
     "duration": null,
     "end_time": null,
     "exception": null,
     "start_time": null,
     "status": "completed"
    },
    "tags": []
   },
   "outputs": [],
   "source": [
    "from deployer.helm_upgrade_decision import get_all_cluster_yaml_files\n",
    "from deployer.cluster import Cluster\n",
    "import subprocess\n",
    "import json\n",
    "from tabulate import tabulate\n",
    "\n",
    "from ruamel.yaml import YAML\n",
    "yaml = YAML(typ='safe')"
   ]
  },
  {
   "cell_type": "code",
   "execution_count": null,
   "id": "f3482aaa-ae54-4f04-a367-4eedb1407859",
   "metadata": {
    "papermill": {
     "duration": null,
     "end_time": null,
     "exception": null,
     "start_time": null,
     "status": "completed"
    },
    "tags": []
   },
   "outputs": [],
   "source": [
    "cluster_files = get_all_cluster_yaml_files()\n",
    "\n",
    "clusters = []\n",
    "for cf in cluster_files:\n",
    "    with open(cf) as f:\n",
    "        cluster = Cluster(yaml.load(f), cf.parent)\n",
    "    clusters.append(cluster)"
   ]
  },
  {
   "cell_type": "code",
   "execution_count": null,
   "id": "1465bbd9-d7f9-408a-9716-9c7fcfd6822e",
   "metadata": {
    "papermill": {
     "duration": null,
     "end_time": null,
     "exception": null,
     "start_time": null,
     "status": "completed"
    },
    "tags": []
   },
   "outputs": [],
   "source": [
    "versions = {}\n",
    "for c in clusters:\n",
    "    with c.auth():\n",
    "        cluster_name = c.spec['name']\n",
    "        # Populate cloud provider type\n",
    "        versions[cluster_name] = {'provider': c.spec['provider']}\n",
    "        \n",
    "        # Get master version\n",
    "        version_output = json.loads(subprocess.check_output(['kubectl', 'version', '--output', 'json']))\n",
    "        server_version = version_output[\"serverVersion\"][\"gitVersion\"]\n",
    "        versions[cluster_name]['master'] = server_version.split('-')[0]\n",
    "        \n",
    "        # Get node versions\n",
    "        node_output = json.loads(subprocess.check_output([\"kubectl\", \"get\", \"node\", \"--output\", \"json\"]))\n",
    "        node_versions = set([n[\"status\"][\"nodeInfo\"][\"kubeletVersion\"].split('-')[0] for n in node_output[\"items\"]])\n",
    "        versions[cluster_name]['nodes'] = node_versions\n",
    "        \n",
    "        "
   ]
  },
  {
   "cell_type": "code",
   "execution_count": null,
   "id": "02fad498-0fc8-4a72-b44c-b9ce41c31a8d",
   "metadata": {
    "papermill": {
     "duration": null,
     "end_time": null,
     "exception": null,
     "start_time": null,
     "status": "completed"
    },
    "tags": []
   },
   "outputs": [],
   "source": [
    "headers = ('provider', 'cluster', 'master version', 'node version(s)')\n",
    "tabulate([\n",
    "    (version['provider'], name, version['master'], ','.join(version['nodes']))\n",
    "    for name, version in versions.items()\n",
    "], headers, tablefmt=\"html\")\n"
   ]
  },
  {
   "cell_type": "code",
   "execution_count": null,
   "id": "ce6a460e-61ed-46b4-a2c3-b0db2e54540d",
   "metadata": {
    "papermill": {
     "duration": null,
     "end_time": null,
     "exception": null,
     "start_time": null,
     "status": "completed"
    },
    "tags": []
   },
   "outputs": [],
   "source": []
  }
 ],
 "metadata": {
  "kernelspec": {
   "display_name": "Python 3 (ipykernel)",
   "language": "python",
   "name": "python3"
  },
  "language_info": {
   "codemirror_mode": {
    "name": "ipython",
    "version": 3
   },
   "file_extension": ".py",
   "mimetype": "text/x-python",
   "name": "python",
   "nbconvert_exporter": "python",
   "pygments_lexer": "ipython3",
   "version": "3.10.12"
  },
  "papermill": {
   "default_parameters": {},
   "duration": 0.011961,
   "end_time": "2023-06-24T05:30:46.133325",
   "environment_variables": {},
   "exception": null,
   "input_path": "/home/runner/work/infrastructure/infrastructure/reports/kubernetes-versions.ipynb",
   "output_path": "/tmp/tmp6b4fmxgs/kubernetes-versions/2023-06-24T05:30:46.024869.ipynb",
   "parameters": {},
   "start_time": "2023-06-24T05:30:46.121364",
   "version": "2.4.0"
  }
 },
 "nbformat": 4,
 "nbformat_minor": 5
}
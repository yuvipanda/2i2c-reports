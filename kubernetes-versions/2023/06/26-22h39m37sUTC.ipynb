{
 "cells": [
  {
   "cell_type": "markdown",
   "id": "8a3381d9-433c-474f-816b-b610807ebebf",
   "metadata": {
    "papermill": {
     "duration": 0.001953,
     "end_time": "2023-06-26T22:39:39.326268",
     "exception": false,
     "start_time": "2023-06-26T22:39:39.324315",
     "status": "completed"
    },
    "tags": []
   },
   "source": [
    "# Kubernetes Cluster Versions Report\n",
    "\n",
    "This report loops through all the clusters we maintain, and reports their master and node versions"
   ]
  },
  {
   "cell_type": "code",
   "execution_count": 1,
   "id": "54d06443-9157-45af-a737-eaa48bd369d1",
   "metadata": {
    "execution": {
     "iopub.execute_input": "2023-06-26T22:39:39.330748Z",
     "iopub.status.busy": "2023-06-26T22:39:39.330255Z",
     "iopub.status.idle": "2023-06-26T22:39:39.396018Z",
     "shell.execute_reply": "2023-06-26T22:39:39.395415Z"
    },
    "papermill": {
     "duration": 0.069604,
     "end_time": "2023-06-26T22:39:39.397465",
     "exception": false,
     "start_time": "2023-06-26T22:39:39.327861",
     "status": "completed"
    },
    "tags": [
     "hide-cell"
    ]
   },
   "outputs": [],
   "source": [
    "from deployer.helm_upgrade_decision import get_all_cluster_yaml_files\n",
    "from deployer.cluster import Cluster\n",
    "import subprocess\n",
    "import json\n",
    "from tabulate import tabulate\n",
    "\n",
    "from ruamel.yaml import YAML\n",
    "yaml = YAML(typ='safe')"
   ]
  },
  {
   "cell_type": "code",
   "execution_count": 2,
   "id": "f3482aaa-ae54-4f04-a367-4eedb1407859",
   "metadata": {
    "execution": {
     "iopub.execute_input": "2023-06-26T22:39:39.401488Z",
     "iopub.status.busy": "2023-06-26T22:39:39.401073Z",
     "iopub.status.idle": "2023-06-26T22:39:39.427959Z",
     "shell.execute_reply": "2023-06-26T22:39:39.427388Z"
    },
    "papermill": {
     "duration": 0.030511,
     "end_time": "2023-06-26T22:39:39.429427",
     "exception": false,
     "start_time": "2023-06-26T22:39:39.398916",
     "status": "completed"
    },
    "tags": [
     "hide-cell"
    ]
   },
   "outputs": [],
   "source": [
    "cluster_files = get_all_cluster_yaml_files()\n",
    "\n",
    "clusters = []\n",
    "for cf in cluster_files:\n",
    "    with open(cf) as f:\n",
    "        cluster = Cluster(yaml.load(f), cf.parent)\n",
    "    clusters.append(cluster)"
   ]
  },
  {
   "cell_type": "code",
   "execution_count": 3,
   "id": "1465bbd9-d7f9-408a-9716-9c7fcfd6822e",
   "metadata": {
    "execution": {
     "iopub.execute_input": "2023-06-26T22:39:39.433915Z",
     "iopub.status.busy": "2023-06-26T22:39:39.433465Z",
     "iopub.status.idle": "2023-06-26T22:40:56.403458Z",
     "shell.execute_reply": "2023-06-26T22:40:56.402864Z"
    },
    "papermill": {
     "duration": 76.974209,
     "end_time": "2023-06-26T22:40:56.405271",
     "exception": false,
     "start_time": "2023-06-26T22:39:39.431062",
     "status": "completed"
    },
    "tags": [
     "hide-cell"
    ]
   },
   "outputs": [],
   "source": [
    "versions = {}\n",
    "for c in clusters:\n",
    "    with c.auth():\n",
    "        cluster_name = c.spec['name']\n",
    "        # Populate cloud provider type\n",
    "        versions[cluster_name] = {'provider': c.spec['provider']}\n",
    "        \n",
    "        # Get master version\n",
    "        version_output = json.loads(subprocess.check_output(['kubectl', 'version', '--output', 'json']))\n",
    "        server_version = version_output[\"serverVersion\"][\"gitVersion\"]\n",
    "        versions[cluster_name]['master'] = server_version.split('-')[0]\n",
    "        \n",
    "        # Get node versions\n",
    "        node_output = json.loads(subprocess.check_output([\"kubectl\", \"get\", \"node\", \"--output\", \"json\"]))\n",
    "        node_versions = set([n[\"status\"][\"nodeInfo\"][\"kubeletVersion\"].split('-')[0] for n in node_output[\"items\"]])\n",
    "        versions[cluster_name]['nodes'] = node_versions\n",
    "        \n",
    "        "
   ]
  },
  {
   "cell_type": "code",
   "execution_count": 4,
   "id": "02fad498-0fc8-4a72-b44c-b9ce41c31a8d",
   "metadata": {
    "execution": {
     "iopub.execute_input": "2023-06-26T22:40:56.410100Z",
     "iopub.status.busy": "2023-06-26T22:40:56.409666Z",
     "iopub.status.idle": "2023-06-26T22:40:56.419738Z",
     "shell.execute_reply": "2023-06-26T22:40:56.419158Z"
    },
    "papermill": {
     "duration": 0.014505,
     "end_time": "2023-06-26T22:40:56.421467",
     "exception": false,
     "start_time": "2023-06-26T22:40:56.406962",
     "status": "completed"
    },
    "tags": [
     "hide-input"
    ]
   },
   "outputs": [
    {
     "data": {
      "text/html": [
       "<table>\n",
       "<thead>\n",
       "<tr><th>provider  </th><th>cluster                </th><th>master version  </th><th>node version(s)  </th></tr>\n",
       "</thead>\n",
       "<tbody>\n",
       "<tr><td>aws       </td><td>openscapes             </td><td>v1.24.13        </td><td>v1.24.9          </td></tr>\n",
       "<tr><td>aws       </td><td>gridsst                </td><td>v1.25.10        </td><td>v1.25.6          </td></tr>\n",
       "<tr><td>aws       </td><td>victor                 </td><td>v1.25.9         </td><td>v1.25.6          </td></tr>\n",
       "<tr><td>aws       </td><td>carbonplan             </td><td>v1.24.13        </td><td>v1.24.7          </td></tr>\n",
       "<tr><td>gcp       </td><td>2i2c-uk                </td><td>v1.24.12        </td><td>v1.24.5          </td></tr>\n",
       "<tr><td>gcp       </td><td>callysto               </td><td>v1.25.8         </td><td>v1.25.6          </td></tr>\n",
       "<tr><td>gcp       </td><td>meom-ige               </td><td>v1.26.4         </td><td>v1.26.4          </td></tr>\n",
       "<tr><td>aws       </td><td>nasa-cryo              </td><td>v1.25.9         </td><td>v1.25.6          </td></tr>\n",
       "<tr><td>kubeconfig</td><td>utoronto               </td><td>v1.26.3         </td><td>v1.26.3          </td></tr>\n",
       "<tr><td>aws       </td><td>nasa-veda              </td><td>v1.25.9         </td><td>v1.25.6          </td></tr>\n",
       "<tr><td>aws       </td><td>smithsonian            </td><td>v1.25.9         </td><td>v1.25.7          </td></tr>\n",
       "<tr><td>gcp       </td><td>awi-ciroh              </td><td>v1.25.8         </td><td>v1.25.6          </td></tr>\n",
       "<tr><td>gcp       </td><td>qcl                    </td><td>v1.24.12        </td><td>v1.24.9          </td></tr>\n",
       "<tr><td>aws       </td><td>ubc-eoas               </td><td>v1.24.14        </td><td>v1.24.7          </td></tr>\n",
       "<tr><td>gcp       </td><td>leap                   </td><td>v1.25.8         </td><td>v1.25.6          </td></tr>\n",
       "<tr><td>gcp       </td><td>pangeo-hubs            </td><td>v1.26.4         </td><td>v1.26.4          </td></tr>\n",
       "<tr><td>gcp       </td><td>m2lines                </td><td>v1.24.12        </td><td>v1.24.5          </td></tr>\n",
       "<tr><td>aws       </td><td>jupyter-meets-the-earth</td><td>v1.25.9         </td><td>v1.25.7          </td></tr>\n",
       "<tr><td>gcp       </td><td>cloudbank              </td><td>v1.26.4         </td><td>v1.26.4          </td></tr>\n",
       "<tr><td>gcp       </td><td>linked-earth           </td><td>v1.26.5         </td><td>v1.26.5          </td></tr>\n",
       "<tr><td>gcp       </td><td>2i2c                   </td><td>v1.26.4         </td><td>v1.26.4          </td></tr>\n",
       "<tr><td>aws       </td><td>2i2c-aws-us            </td><td>v1.25.9         </td><td>v1.25.6          </td></tr>\n",
       "</tbody>\n",
       "</table>"
      ],
      "text/plain": [
       "'<table>\\n<thead>\\n<tr><th>provider  </th><th>cluster                </th><th>master version  </th><th>node version(s)  </th></tr>\\n</thead>\\n<tbody>\\n<tr><td>aws       </td><td>openscapes             </td><td>v1.24.13        </td><td>v1.24.9          </td></tr>\\n<tr><td>aws       </td><td>gridsst                </td><td>v1.25.10        </td><td>v1.25.6          </td></tr>\\n<tr><td>aws       </td><td>victor                 </td><td>v1.25.9         </td><td>v1.25.6          </td></tr>\\n<tr><td>aws       </td><td>carbonplan             </td><td>v1.24.13        </td><td>v1.24.7          </td></tr>\\n<tr><td>gcp       </td><td>2i2c-uk                </td><td>v1.24.12        </td><td>v1.24.5          </td></tr>\\n<tr><td>gcp       </td><td>callysto               </td><td>v1.25.8         </td><td>v1.25.6          </td></tr>\\n<tr><td>gcp       </td><td>meom-ige               </td><td>v1.26.4         </td><td>v1.26.4          </td></tr>\\n<tr><td>aws       </td><td>nasa-cryo              </td><td>v1.25.9         </td><td>v1.25.6          </td></tr>\\n<tr><td>kubeconfig</td><td>utoronto               </td><td>v1.26.3         </td><td>v1.26.3          </td></tr>\\n<tr><td>aws       </td><td>nasa-veda              </td><td>v1.25.9         </td><td>v1.25.6          </td></tr>\\n<tr><td>aws       </td><td>smithsonian            </td><td>v1.25.9         </td><td>v1.25.7          </td></tr>\\n<tr><td>gcp       </td><td>awi-ciroh              </td><td>v1.25.8         </td><td>v1.25.6          </td></tr>\\n<tr><td>gcp       </td><td>qcl                    </td><td>v1.24.12        </td><td>v1.24.9          </td></tr>\\n<tr><td>aws       </td><td>ubc-eoas               </td><td>v1.24.14        </td><td>v1.24.7          </td></tr>\\n<tr><td>gcp       </td><td>leap                   </td><td>v1.25.8         </td><td>v1.25.6          </td></tr>\\n<tr><td>gcp       </td><td>pangeo-hubs            </td><td>v1.26.4         </td><td>v1.26.4          </td></tr>\\n<tr><td>gcp       </td><td>m2lines                </td><td>v1.24.12        </td><td>v1.24.5          </td></tr>\\n<tr><td>aws       </td><td>jupyter-meets-the-earth</td><td>v1.25.9         </td><td>v1.25.7          </td></tr>\\n<tr><td>gcp       </td><td>cloudbank              </td><td>v1.26.4         </td><td>v1.26.4          </td></tr>\\n<tr><td>gcp       </td><td>linked-earth           </td><td>v1.26.5         </td><td>v1.26.5          </td></tr>\\n<tr><td>gcp       </td><td>2i2c                   </td><td>v1.26.4         </td><td>v1.26.4          </td></tr>\\n<tr><td>aws       </td><td>2i2c-aws-us            </td><td>v1.25.9         </td><td>v1.25.6          </td></tr>\\n</tbody>\\n</table>'"
      ]
     },
     "execution_count": 4,
     "metadata": {},
     "output_type": "execute_result"
    }
   ],
   "source": [
    "headers = ('provider', 'cluster', 'master version', 'node version(s)')\n",
    "tabulate([\n",
    "    (version['provider'], name, version['master'], ','.join(version['nodes']))\n",
    "    for name, version in versions.items()\n",
    "], headers, tablefmt=\"html\")\n"
   ]
  },
  {
   "cell_type": "code",
   "execution_count": null,
   "id": "ce6a460e-61ed-46b4-a2c3-b0db2e54540d",
   "metadata": {
    "papermill": {
     "duration": 0.001578,
     "end_time": "2023-06-26T22:40:56.424786",
     "exception": false,
     "start_time": "2023-06-26T22:40:56.423208",
     "status": "completed"
    },
    "tags": []
   },
   "outputs": [],
   "source": []
  }
 ],
 "metadata": {
  "kernelspec": {
   "display_name": "Python 3 (ipykernel)",
   "language": "python",
   "name": "python3"
  },
  "language_info": {
   "codemirror_mode": {
    "name": "ipython",
    "version": 3
   },
   "file_extension": ".py",
   "mimetype": "text/x-python",
   "name": "python",
   "nbconvert_exporter": "python",
   "pygments_lexer": "ipython3",
   "version": "3.11.4"
  },
  "papermill": {
   "default_parameters": {},
   "duration": 78.266303,
   "end_time": "2023-06-26T22:40:56.642460",
   "environment_variables": {},
   "exception": null,
   "input_path": "/home/runner/work/infrastructure/infrastructure/reports/kubernetes-versions.ipynb",
   "output_path": "/tmp/tmp02qu0ve_/kubernetes-versions/2023/06/26-22h39m37sUTC.ipynb",
   "parameters": {},
   "start_time": "2023-06-26T22:39:38.376157",
   "version": "2.4.0"
  }
 },
 "nbformat": 4,
 "nbformat_minor": 5
}
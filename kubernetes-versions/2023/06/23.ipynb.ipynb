{
 "cells": [
  {
   "cell_type": "markdown",
   "id": "8a3381d9-433c-474f-816b-b610807ebebf",
   "metadata": {
    "papermill": {
     "duration": 0.001618,
     "end_time": "2023-06-24T05:59:23.706978",
     "exception": false,
     "start_time": "2023-06-24T05:59:23.705360",
     "status": "completed"
    },
    "tags": []
   },
   "source": [
    "# Kubernetes Cluster Versions Report\n",
    "\n",
    "This report loops through all the clusters we maintain, and reports their master and node versions"
   ]
  },
  {
   "cell_type": "code",
   "execution_count": 1,
   "id": "54d06443-9157-45af-a737-eaa48bd369d1",
   "metadata": {
    "execution": {
     "iopub.execute_input": "2023-06-24T05:59:23.709904Z",
     "iopub.status.busy": "2023-06-24T05:59:23.709714Z",
     "iopub.status.idle": "2023-06-24T05:59:23.742655Z",
     "shell.execute_reply": "2023-06-24T05:59:23.742364Z"
    },
    "papermill": {
     "duration": 0.035607,
     "end_time": "2023-06-24T05:59:23.743684",
     "exception": false,
     "start_time": "2023-06-24T05:59:23.708077",
     "status": "completed"
    },
    "tags": []
   },
   "outputs": [],
   "source": [
    "from deployer.helm_upgrade_decision import get_all_cluster_yaml_files\n",
    "from deployer.cluster import Cluster\n",
    "import subprocess\n",
    "import json\n",
    "from tabulate import tabulate\n",
    "\n",
    "from ruamel.yaml import YAML\n",
    "yaml = YAML(typ='safe')"
   ]
  },
  {
   "cell_type": "code",
   "execution_count": 2,
   "id": "f3482aaa-ae54-4f04-a367-4eedb1407859",
   "metadata": {
    "execution": {
     "iopub.execute_input": "2023-06-24T05:59:23.745663Z",
     "iopub.status.busy": "2023-06-24T05:59:23.745546Z",
     "iopub.status.idle": "2023-06-24T05:59:23.816268Z",
     "shell.execute_reply": "2023-06-24T05:59:23.815849Z"
    },
    "papermill": {
     "duration": 0.073005,
     "end_time": "2023-06-24T05:59:23.817431",
     "exception": false,
     "start_time": "2023-06-24T05:59:23.744426",
     "status": "completed"
    },
    "tags": []
   },
   "outputs": [],
   "source": [
    "cluster_files = get_all_cluster_yaml_files()\n",
    "\n",
    "clusters = []\n",
    "for cf in cluster_files:\n",
    "    with open(cf) as f:\n",
    "        cluster = Cluster(yaml.load(f), cf.parent)\n",
    "    clusters.append(cluster)"
   ]
  },
  {
   "cell_type": "code",
   "execution_count": 3,
   "id": "1465bbd9-d7f9-408a-9716-9c7fcfd6822e",
   "metadata": {
    "execution": {
     "iopub.execute_input": "2023-06-24T05:59:23.820263Z",
     "iopub.status.busy": "2023-06-24T05:59:23.820100Z",
     "iopub.status.idle": "2023-06-24T06:00:18.162262Z",
     "shell.execute_reply": "2023-06-24T06:00:18.161796Z"
    },
    "papermill": {
     "duration": 54.345075,
     "end_time": "2023-06-24T06:00:18.163587",
     "exception": false,
     "start_time": "2023-06-24T05:59:23.818512",
     "status": "completed"
    },
    "tags": []
   },
   "outputs": [
    {
     "name": "stderr",
     "output_type": "stream",
     "text": [
      "W0623 22:59:28.334090   61885 gcp.go:119] WARNING: the gcp auth plugin is deprecated in v1.22+, unavailable in v1.26+; use gcloud instead.\n",
      "To learn more, consult https://cloud.google.com/blog/products/containers-kubernetes/kubectl-auth-changes-in-gke\n"
     ]
    },
    {
     "name": "stderr",
     "output_type": "stream",
     "text": [
      "W0623 22:59:28.930523   61902 gcp.go:119] WARNING: the gcp auth plugin is deprecated in v1.22+, unavailable in v1.26+; use gcloud instead.\n",
      "To learn more, consult https://cloud.google.com/blog/products/containers-kubernetes/kubectl-auth-changes-in-gke\n"
     ]
    },
    {
     "name": "stderr",
     "output_type": "stream",
     "text": [
      "W0623 22:59:33.048143   61948 gcp.go:119] WARNING: the gcp auth plugin is deprecated in v1.22+, unavailable in v1.26+; use gcloud instead.\n",
      "To learn more, consult https://cloud.google.com/blog/products/containers-kubernetes/kubectl-auth-changes-in-gke\n"
     ]
    },
    {
     "name": "stderr",
     "output_type": "stream",
     "text": [
      "W0623 22:59:33.610954   61965 gcp.go:119] WARNING: the gcp auth plugin is deprecated in v1.22+, unavailable in v1.26+; use gcloud instead.\n",
      "To learn more, consult https://cloud.google.com/blog/products/containers-kubernetes/kubectl-auth-changes-in-gke\n"
     ]
    },
    {
     "name": "stderr",
     "output_type": "stream",
     "text": [
      "W0623 22:59:37.624628   62011 gcp.go:119] WARNING: the gcp auth plugin is deprecated in v1.22+, unavailable in v1.26+; use gcloud instead.\n",
      "To learn more, consult https://cloud.google.com/blog/products/containers-kubernetes/kubectl-auth-changes-in-gke\n"
     ]
    },
    {
     "name": "stderr",
     "output_type": "stream",
     "text": [
      "W0623 22:59:38.189429   62028 gcp.go:119] WARNING: the gcp auth plugin is deprecated in v1.22+, unavailable in v1.26+; use gcloud instead.\n",
      "To learn more, consult https://cloud.google.com/blog/products/containers-kubernetes/kubectl-auth-changes-in-gke\n"
     ]
    },
    {
     "name": "stderr",
     "output_type": "stream",
     "text": [
      "W0623 22:59:40.958088   62069 gcp.go:119] WARNING: the gcp auth plugin is deprecated in v1.22+, unavailable in v1.26+; use gcloud instead.\n",
      "To learn more, consult https://cloud.google.com/blog/products/containers-kubernetes/kubectl-auth-changes-in-gke\n"
     ]
    },
    {
     "name": "stderr",
     "output_type": "stream",
     "text": [
      "W0623 22:59:41.858073   62086 gcp.go:119] WARNING: the gcp auth plugin is deprecated in v1.22+, unavailable in v1.26+; use gcloud instead.\n",
      "To learn more, consult https://cloud.google.com/blog/products/containers-kubernetes/kubectl-auth-changes-in-gke\n"
     ]
    },
    {
     "name": "stderr",
     "output_type": "stream",
     "text": [
      "W0623 22:59:48.270479   62138 gcp.go:119] WARNING: the gcp auth plugin is deprecated in v1.22+, unavailable in v1.26+; use gcloud instead.\n",
      "To learn more, consult https://cloud.google.com/blog/products/containers-kubernetes/kubectl-auth-changes-in-gke\n"
     ]
    },
    {
     "name": "stderr",
     "output_type": "stream",
     "text": [
      "W0623 22:59:48.827198   62155 gcp.go:119] WARNING: the gcp auth plugin is deprecated in v1.22+, unavailable in v1.26+; use gcloud instead.\n",
      "To learn more, consult https://cloud.google.com/blog/products/containers-kubernetes/kubectl-auth-changes-in-gke\n"
     ]
    },
    {
     "name": "stderr",
     "output_type": "stream",
     "text": [
      "W0623 22:59:55.527564   62207 gcp.go:119] WARNING: the gcp auth plugin is deprecated in v1.22+, unavailable in v1.26+; use gcloud instead.\n",
      "To learn more, consult https://cloud.google.com/blog/products/containers-kubernetes/kubectl-auth-changes-in-gke\n"
     ]
    },
    {
     "name": "stderr",
     "output_type": "stream",
     "text": [
      "W0623 22:59:56.180877   62224 gcp.go:119] WARNING: the gcp auth plugin is deprecated in v1.22+, unavailable in v1.26+; use gcloud instead.\n",
      "To learn more, consult https://cloud.google.com/blog/products/containers-kubernetes/kubectl-auth-changes-in-gke\n"
     ]
    },
    {
     "name": "stderr",
     "output_type": "stream",
     "text": [
      "W0623 22:59:58.420790   62264 gcp.go:119] WARNING: the gcp auth plugin is deprecated in v1.22+, unavailable in v1.26+; use gcloud instead.\n",
      "To learn more, consult https://cloud.google.com/blog/products/containers-kubernetes/kubectl-auth-changes-in-gke\n"
     ]
    },
    {
     "name": "stderr",
     "output_type": "stream",
     "text": [
      "W0623 22:59:59.038467   62282 gcp.go:119] WARNING: the gcp auth plugin is deprecated in v1.22+, unavailable in v1.26+; use gcloud instead.\n",
      "To learn more, consult https://cloud.google.com/blog/products/containers-kubernetes/kubectl-auth-changes-in-gke\n"
     ]
    },
    {
     "name": "stderr",
     "output_type": "stream",
     "text": [
      "W0623 23:00:01.038683   62322 gcp.go:119] WARNING: the gcp auth plugin is deprecated in v1.22+, unavailable in v1.26+; use gcloud instead.\n",
      "To learn more, consult https://cloud.google.com/blog/products/containers-kubernetes/kubectl-auth-changes-in-gke\n"
     ]
    },
    {
     "name": "stderr",
     "output_type": "stream",
     "text": [
      "W0623 23:00:01.629763   62339 gcp.go:119] WARNING: the gcp auth plugin is deprecated in v1.22+, unavailable in v1.26+; use gcloud instead.\n",
      "To learn more, consult https://cloud.google.com/blog/products/containers-kubernetes/kubectl-auth-changes-in-gke\n"
     ]
    },
    {
     "name": "stderr",
     "output_type": "stream",
     "text": [
      "W0623 23:00:07.357863   62388 gcp.go:119] WARNING: the gcp auth plugin is deprecated in v1.22+, unavailable in v1.26+; use gcloud instead.\n",
      "To learn more, consult https://cloud.google.com/blog/products/containers-kubernetes/kubectl-auth-changes-in-gke\n"
     ]
    },
    {
     "name": "stderr",
     "output_type": "stream",
     "text": [
      "W0623 23:00:08.215739   62405 gcp.go:119] WARNING: the gcp auth plugin is deprecated in v1.22+, unavailable in v1.26+; use gcloud instead.\n",
      "To learn more, consult https://cloud.google.com/blog/products/containers-kubernetes/kubectl-auth-changes-in-gke\n"
     ]
    },
    {
     "name": "stderr",
     "output_type": "stream",
     "text": [
      "W0623 23:00:14.553721   62457 gcp.go:119] WARNING: the gcp auth plugin is deprecated in v1.22+, unavailable in v1.26+; use gcloud instead.\n",
      "To learn more, consult https://cloud.google.com/blog/products/containers-kubernetes/kubectl-auth-changes-in-gke\n"
     ]
    },
    {
     "name": "stderr",
     "output_type": "stream",
     "text": [
      "W0623 23:00:15.133509   62474 gcp.go:119] WARNING: the gcp auth plugin is deprecated in v1.22+, unavailable in v1.26+; use gcloud instead.\n",
      "To learn more, consult https://cloud.google.com/blog/products/containers-kubernetes/kubectl-auth-changes-in-gke\n"
     ]
    },
    {
     "name": "stderr",
     "output_type": "stream",
     "text": [
      "W0623 23:00:17.266512   62514 gcp.go:119] WARNING: the gcp auth plugin is deprecated in v1.22+, unavailable in v1.26+; use gcloud instead.\n",
      "To learn more, consult https://cloud.google.com/blog/products/containers-kubernetes/kubectl-auth-changes-in-gke\n"
     ]
    },
    {
     "name": "stderr",
     "output_type": "stream",
     "text": [
      "W0623 23:00:17.846817   62531 gcp.go:119] WARNING: the gcp auth plugin is deprecated in v1.22+, unavailable in v1.26+; use gcloud instead.\n",
      "To learn more, consult https://cloud.google.com/blog/products/containers-kubernetes/kubectl-auth-changes-in-gke\n"
     ]
    }
   ],
   "source": [
    "versions = {}\n",
    "for c in clusters:\n",
    "    with c.auth():\n",
    "        cluster_name = c.spec['name']\n",
    "        # Populate cloud provider type\n",
    "        versions[cluster_name] = {'provider': c.spec['provider']}\n",
    "        \n",
    "        # Get master version\n",
    "        version_output = json.loads(subprocess.check_output(['kubectl', 'version', '--output', 'json']))\n",
    "        server_version = version_output[\"serverVersion\"][\"gitVersion\"]\n",
    "        versions[cluster_name]['master'] = server_version.split('-')[0]\n",
    "        \n",
    "        # Get node versions\n",
    "        node_output = json.loads(subprocess.check_output([\"kubectl\", \"get\", \"node\", \"--output\", \"json\"]))\n",
    "        node_versions = set([n[\"status\"][\"nodeInfo\"][\"kubeletVersion\"].split('-')[0] for n in node_output[\"items\"]])\n",
    "        versions[cluster_name]['nodes'] = node_versions\n",
    "        \n",
    "        "
   ]
  },
  {
   "cell_type": "code",
   "execution_count": 4,
   "id": "02fad498-0fc8-4a72-b44c-b9ce41c31a8d",
   "metadata": {
    "execution": {
     "iopub.execute_input": "2023-06-24T06:00:18.167478Z",
     "iopub.status.busy": "2023-06-24T06:00:18.167329Z",
     "iopub.status.idle": "2023-06-24T06:00:18.173883Z",
     "shell.execute_reply": "2023-06-24T06:00:18.173551Z"
    },
    "papermill": {
     "duration": 0.00983,
     "end_time": "2023-06-24T06:00:18.175086",
     "exception": false,
     "start_time": "2023-06-24T06:00:18.165256",
     "status": "completed"
    },
    "tags": []
   },
   "outputs": [
    {
     "data": {
      "text/html": [
       "<table>\n",
       "<thead>\n",
       "<tr><th>provider  </th><th>cluster                </th><th>master version  </th><th>node version(s)  </th></tr>\n",
       "</thead>\n",
       "<tbody>\n",
       "<tr><td>aws       </td><td>smithsonian            </td><td>v1.25.9         </td><td>v1.25.7          </td></tr>\n",
       "<tr><td>gcp       </td><td>leap                   </td><td>v1.25.8         </td><td>v1.25.6          </td></tr>\n",
       "<tr><td>aws       </td><td>carbonplan             </td><td>v1.24.13        </td><td>v1.24.7          </td></tr>\n",
       "<tr><td>gcp       </td><td>cloudbank              </td><td>v1.26.4         </td><td>v1.26.4          </td></tr>\n",
       "<tr><td>aws       </td><td>openscapes             </td><td>v1.24.13        </td><td>v1.24.9          </td></tr>\n",
       "<tr><td>gcp       </td><td>linked-earth           </td><td>v1.24.12        </td><td>v1.24.7          </td></tr>\n",
       "<tr><td>gcp       </td><td>qcl                    </td><td>v1.24.12        </td><td>v1.24.9          </td></tr>\n",
       "<tr><td>aws       </td><td>gridsst                </td><td>v1.25.9         </td><td>v1.25.6          </td></tr>\n",
       "<tr><td>aws       </td><td>nasa-veda              </td><td>v1.25.9         </td><td>v1.25.6          </td></tr>\n",
       "<tr><td>gcp       </td><td>pangeo-hubs            </td><td>v1.26.4         </td><td>v1.26.4          </td></tr>\n",
       "<tr><td>aws       </td><td>jupyter-meets-the-earth</td><td>v1.25.9         </td><td>v1.25.7          </td></tr>\n",
       "<tr><td>aws       </td><td>ubc-eoas               </td><td>v1.24.13        </td><td>v1.24.7          </td></tr>\n",
       "<tr><td>gcp       </td><td>callysto               </td><td>v1.25.8         </td><td>v1.25.6          </td></tr>\n",
       "<tr><td>gcp       </td><td>meom-ige               </td><td>v1.26.4         </td><td>v1.26.4          </td></tr>\n",
       "<tr><td>gcp       </td><td>m2lines                </td><td>v1.24.12        </td><td>v1.24.5          </td></tr>\n",
       "<tr><td>kubeconfig</td><td>utoronto               </td><td>v1.26.3         </td><td>v1.26.3          </td></tr>\n",
       "<tr><td>aws       </td><td>nasa-cryo              </td><td>v1.25.9         </td><td>v1.25.6          </td></tr>\n",
       "<tr><td>gcp       </td><td>2i2c-uk                </td><td>v1.24.12        </td><td>v1.24.5          </td></tr>\n",
       "<tr><td>aws       </td><td>2i2c-aws-us            </td><td>v1.25.9         </td><td>v1.25.6          </td></tr>\n",
       "<tr><td>aws       </td><td>victor                 </td><td>v1.25.9         </td><td>v1.25.6          </td></tr>\n",
       "<tr><td>gcp       </td><td>awi-ciroh              </td><td>v1.25.8         </td><td>v1.25.6          </td></tr>\n",
       "<tr><td>gcp       </td><td>2i2c                   </td><td>v1.26.4         </td><td>v1.26.4          </td></tr>\n",
       "</tbody>\n",
       "</table>"
      ],
      "text/plain": [
       "'<table>\\n<thead>\\n<tr><th>provider  </th><th>cluster                </th><th>master version  </th><th>node version(s)  </th></tr>\\n</thead>\\n<tbody>\\n<tr><td>aws       </td><td>smithsonian            </td><td>v1.25.9         </td><td>v1.25.7          </td></tr>\\n<tr><td>gcp       </td><td>leap                   </td><td>v1.25.8         </td><td>v1.25.6          </td></tr>\\n<tr><td>aws       </td><td>carbonplan             </td><td>v1.24.13        </td><td>v1.24.7          </td></tr>\\n<tr><td>gcp       </td><td>cloudbank              </td><td>v1.26.4         </td><td>v1.26.4          </td></tr>\\n<tr><td>aws       </td><td>openscapes             </td><td>v1.24.13        </td><td>v1.24.9          </td></tr>\\n<tr><td>gcp       </td><td>linked-earth           </td><td>v1.24.12        </td><td>v1.24.7          </td></tr>\\n<tr><td>gcp       </td><td>qcl                    </td><td>v1.24.12        </td><td>v1.24.9          </td></tr>\\n<tr><td>aws       </td><td>gridsst                </td><td>v1.25.9         </td><td>v1.25.6          </td></tr>\\n<tr><td>aws       </td><td>nasa-veda              </td><td>v1.25.9         </td><td>v1.25.6          </td></tr>\\n<tr><td>gcp       </td><td>pangeo-hubs            </td><td>v1.26.4         </td><td>v1.26.4          </td></tr>\\n<tr><td>aws       </td><td>jupyter-meets-the-earth</td><td>v1.25.9         </td><td>v1.25.7          </td></tr>\\n<tr><td>aws       </td><td>ubc-eoas               </td><td>v1.24.13        </td><td>v1.24.7          </td></tr>\\n<tr><td>gcp       </td><td>callysto               </td><td>v1.25.8         </td><td>v1.25.6          </td></tr>\\n<tr><td>gcp       </td><td>meom-ige               </td><td>v1.26.4         </td><td>v1.26.4          </td></tr>\\n<tr><td>gcp       </td><td>m2lines                </td><td>v1.24.12        </td><td>v1.24.5          </td></tr>\\n<tr><td>kubeconfig</td><td>utoronto               </td><td>v1.26.3         </td><td>v1.26.3          </td></tr>\\n<tr><td>aws       </td><td>nasa-cryo              </td><td>v1.25.9         </td><td>v1.25.6          </td></tr>\\n<tr><td>gcp       </td><td>2i2c-uk                </td><td>v1.24.12        </td><td>v1.24.5          </td></tr>\\n<tr><td>aws       </td><td>2i2c-aws-us            </td><td>v1.25.9         </td><td>v1.25.6          </td></tr>\\n<tr><td>aws       </td><td>victor                 </td><td>v1.25.9         </td><td>v1.25.6          </td></tr>\\n<tr><td>gcp       </td><td>awi-ciroh              </td><td>v1.25.8         </td><td>v1.25.6          </td></tr>\\n<tr><td>gcp       </td><td>2i2c                   </td><td>v1.26.4         </td><td>v1.26.4          </td></tr>\\n</tbody>\\n</table>'"
      ]
     },
     "execution_count": 4,
     "metadata": {},
     "output_type": "execute_result"
    }
   ],
   "source": [
    "headers = ('provider', 'cluster', 'master version', 'node version(s)')\n",
    "tabulate([\n",
    "    (version['provider'], name, version['master'], ','.join(version['nodes']))\n",
    "    for name, version in versions.items()\n",
    "], headers, tablefmt=\"html\")\n"
   ]
  },
  {
   "cell_type": "code",
   "execution_count": null,
   "id": "ce6a460e-61ed-46b4-a2c3-b0db2e54540d",
   "metadata": {
    "papermill": {
     "duration": 0.001416,
     "end_time": "2023-06-24T06:00:18.178066",
     "exception": false,
     "start_time": "2023-06-24T06:00:18.176650",
     "status": "completed"
    },
    "tags": []
   },
   "outputs": [],
   "source": []
  }
 ],
 "metadata": {
  "kernelspec": {
   "display_name": "Python 3 (ipykernel)",
   "language": "python",
   "name": "python3"
  },
  "language_info": {
   "codemirror_mode": {
    "name": "ipython",
    "version": 3
   },
   "file_extension": ".py",
   "mimetype": "text/x-python",
   "name": "python",
   "nbconvert_exporter": "python",
   "pygments_lexer": "ipython3",
   "version": "3.10.12"
  },
  "papermill": {
   "default_parameters": {},
   "duration": 55.573539,
   "end_time": "2023-06-24T06:00:18.295509",
   "environment_variables": {},
   "exception": null,
   "input_path": "/Users/yuvipanda/code/infrastructure/reports/kubernetes-versions.ipynb",
   "output_path": "/var/folders/p4/gnx7h_mj73v92nj_v93475v80000gn/T/tmpxt9unznq/kubernetes-versions/2023/06/23.ipynb.ipynb",
   "parameters": {},
   "start_time": "2023-06-24T05:59:22.721970",
   "version": "2.4.0"
  }
 },
 "nbformat": 4,
 "nbformat_minor": 5
}
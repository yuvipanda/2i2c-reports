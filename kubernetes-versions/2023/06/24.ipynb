{
 "cells": [
  {
   "cell_type": "markdown",
   "id": "8a3381d9-433c-474f-816b-b610807ebebf",
   "metadata": {
    "papermill": {
     "duration": 0.002406,
     "end_time": "2023-06-24T06:03:09.689638",
     "exception": false,
     "start_time": "2023-06-24T06:03:09.687232",
     "status": "completed"
    },
    "tags": []
   },
   "source": [
    "# Kubernetes Cluster Versions Report\n",
    "\n",
    "This report loops through all the clusters we maintain, and reports their master and node versions"
   ]
  },
  {
   "cell_type": "code",
   "execution_count": 1,
   "id": "54d06443-9157-45af-a737-eaa48bd369d1",
   "metadata": {
    "execution": {
     "iopub.execute_input": "2023-06-24T06:03:09.695277Z",
     "iopub.status.busy": "2023-06-24T06:03:09.694523Z",
     "iopub.status.idle": "2023-06-24T06:03:09.780712Z",
     "shell.execute_reply": "2023-06-24T06:03:09.779992Z"
    },
    "papermill": {
     "duration": 0.090991,
     "end_time": "2023-06-24T06:03:09.782516",
     "exception": false,
     "start_time": "2023-06-24T06:03:09.691525",
     "status": "completed"
    },
    "tags": []
   },
   "outputs": [],
   "source": [
    "from deployer.helm_upgrade_decision import get_all_cluster_yaml_files\n",
    "from deployer.cluster import Cluster\n",
    "import subprocess\n",
    "import json\n",
    "from tabulate import tabulate\n",
    "\n",
    "from ruamel.yaml import YAML\n",
    "yaml = YAML(typ='safe')"
   ]
  },
  {
   "cell_type": "code",
   "execution_count": 2,
   "id": "f3482aaa-ae54-4f04-a367-4eedb1407859",
   "metadata": {
    "execution": {
     "iopub.execute_input": "2023-06-24T06:03:09.787437Z",
     "iopub.status.busy": "2023-06-24T06:03:09.786825Z",
     "iopub.status.idle": "2023-06-24T06:03:09.817887Z",
     "shell.execute_reply": "2023-06-24T06:03:09.817212Z"
    },
    "papermill": {
     "duration": 0.035489,
     "end_time": "2023-06-24T06:03:09.819761",
     "exception": false,
     "start_time": "2023-06-24T06:03:09.784272",
     "status": "completed"
    },
    "tags": []
   },
   "outputs": [],
   "source": [
    "cluster_files = get_all_cluster_yaml_files()\n",
    "\n",
    "clusters = []\n",
    "for cf in cluster_files:\n",
    "    with open(cf) as f:\n",
    "        cluster = Cluster(yaml.load(f), cf.parent)\n",
    "    clusters.append(cluster)"
   ]
  },
  {
   "cell_type": "code",
   "execution_count": 3,
   "id": "1465bbd9-d7f9-408a-9716-9c7fcfd6822e",
   "metadata": {
    "execution": {
     "iopub.execute_input": "2023-06-24T06:03:09.825355Z",
     "iopub.status.busy": "2023-06-24T06:03:09.824982Z",
     "iopub.status.idle": "2023-06-24T06:04:38.305721Z",
     "shell.execute_reply": "2023-06-24T06:04:38.305045Z"
    },
    "papermill": {
     "duration": 88.485941,
     "end_time": "2023-06-24T06:04:38.307708",
     "exception": false,
     "start_time": "2023-06-24T06:03:09.821767",
     "status": "completed"
    },
    "tags": []
   },
   "outputs": [],
   "source": [
    "versions = {}\n",
    "for c in clusters:\n",
    "    with c.auth():\n",
    "        cluster_name = c.spec['name']\n",
    "        # Populate cloud provider type\n",
    "        versions[cluster_name] = {'provider': c.spec['provider']}\n",
    "        \n",
    "        # Get master version\n",
    "        version_output = json.loads(subprocess.check_output(['kubectl', 'version', '--output', 'json']))\n",
    "        server_version = version_output[\"serverVersion\"][\"gitVersion\"]\n",
    "        versions[cluster_name]['master'] = server_version.split('-')[0]\n",
    "        \n",
    "        # Get node versions\n",
    "        node_output = json.loads(subprocess.check_output([\"kubectl\", \"get\", \"node\", \"--output\", \"json\"]))\n",
    "        node_versions = set([n[\"status\"][\"nodeInfo\"][\"kubeletVersion\"].split('-')[0] for n in node_output[\"items\"]])\n",
    "        versions[cluster_name]['nodes'] = node_versions\n",
    "        \n",
    "        "
   ]
  },
  {
   "cell_type": "code",
   "execution_count": 4,
   "id": "02fad498-0fc8-4a72-b44c-b9ce41c31a8d",
   "metadata": {
    "execution": {
     "iopub.execute_input": "2023-06-24T06:04:38.312937Z",
     "iopub.status.busy": "2023-06-24T06:04:38.312343Z",
     "iopub.status.idle": "2023-06-24T06:04:38.325547Z",
     "shell.execute_reply": "2023-06-24T06:04:38.324665Z"
    },
    "papermill": {
     "duration": 0.017392,
     "end_time": "2023-06-24T06:04:38.327060",
     "exception": false,
     "start_time": "2023-06-24T06:04:38.309668",
     "status": "completed"
    },
    "tags": []
   },
   "outputs": [
    {
     "data": {
      "text/html": [
       "<table>\n",
       "<thead>\n",
       "<tr><th>provider  </th><th>cluster                </th><th>master version  </th><th>node version(s)  </th></tr>\n",
       "</thead>\n",
       "<tbody>\n",
       "<tr><td>gcp       </td><td>leap                   </td><td>v1.25.8         </td><td>v1.25.6          </td></tr>\n",
       "<tr><td>aws       </td><td>victor                 </td><td>v1.25.9         </td><td>v1.25.6          </td></tr>\n",
       "<tr><td>gcp       </td><td>callysto               </td><td>v1.25.8         </td><td>v1.25.6          </td></tr>\n",
       "<tr><td>gcp       </td><td>linked-earth           </td><td>v1.24.12        </td><td>v1.24.7          </td></tr>\n",
       "<tr><td>aws       </td><td>nasa-cryo              </td><td>v1.25.9         </td><td>v1.25.6          </td></tr>\n",
       "<tr><td>gcp       </td><td>qcl                    </td><td>v1.24.12        </td><td>v1.24.9          </td></tr>\n",
       "<tr><td>gcp       </td><td>2i2c                   </td><td>v1.26.4         </td><td>v1.26.4          </td></tr>\n",
       "<tr><td>aws       </td><td>nasa-veda              </td><td>v1.25.9         </td><td>v1.25.6          </td></tr>\n",
       "<tr><td>aws       </td><td>gridsst                </td><td>v1.25.9         </td><td>v1.25.6          </td></tr>\n",
       "<tr><td>gcp       </td><td>cloudbank              </td><td>v1.26.4         </td><td>v1.26.4          </td></tr>\n",
       "<tr><td>aws       </td><td>smithsonian            </td><td>v1.25.9         </td><td>v1.25.7          </td></tr>\n",
       "<tr><td>gcp       </td><td>meom-ige               </td><td>v1.26.4         </td><td>v1.26.4          </td></tr>\n",
       "<tr><td>gcp       </td><td>pangeo-hubs            </td><td>v1.26.4         </td><td>v1.26.4          </td></tr>\n",
       "<tr><td>gcp       </td><td>awi-ciroh              </td><td>v1.25.8         </td><td>v1.25.6          </td></tr>\n",
       "<tr><td>aws       </td><td>ubc-eoas               </td><td>v1.24.13        </td><td>v1.24.7          </td></tr>\n",
       "<tr><td>aws       </td><td>openscapes             </td><td>v1.24.13        </td><td>v1.24.9          </td></tr>\n",
       "<tr><td>kubeconfig</td><td>utoronto               </td><td>v1.26.3         </td><td>v1.26.3          </td></tr>\n",
       "<tr><td>aws       </td><td>carbonplan             </td><td>v1.24.13        </td><td>v1.24.7          </td></tr>\n",
       "<tr><td>gcp       </td><td>2i2c-uk                </td><td>v1.24.12        </td><td>v1.24.5          </td></tr>\n",
       "<tr><td>aws       </td><td>jupyter-meets-the-earth</td><td>v1.25.9         </td><td>v1.25.7          </td></tr>\n",
       "<tr><td>gcp       </td><td>m2lines                </td><td>v1.24.12        </td><td>v1.24.5          </td></tr>\n",
       "<tr><td>aws       </td><td>2i2c-aws-us            </td><td>v1.25.9         </td><td>v1.25.6          </td></tr>\n",
       "</tbody>\n",
       "</table>"
      ],
      "text/plain": [
       "'<table>\\n<thead>\\n<tr><th>provider  </th><th>cluster                </th><th>master version  </th><th>node version(s)  </th></tr>\\n</thead>\\n<tbody>\\n<tr><td>gcp       </td><td>leap                   </td><td>v1.25.8         </td><td>v1.25.6          </td></tr>\\n<tr><td>aws       </td><td>victor                 </td><td>v1.25.9         </td><td>v1.25.6          </td></tr>\\n<tr><td>gcp       </td><td>callysto               </td><td>v1.25.8         </td><td>v1.25.6          </td></tr>\\n<tr><td>gcp       </td><td>linked-earth           </td><td>v1.24.12        </td><td>v1.24.7          </td></tr>\\n<tr><td>aws       </td><td>nasa-cryo              </td><td>v1.25.9         </td><td>v1.25.6          </td></tr>\\n<tr><td>gcp       </td><td>qcl                    </td><td>v1.24.12        </td><td>v1.24.9          </td></tr>\\n<tr><td>gcp       </td><td>2i2c                   </td><td>v1.26.4         </td><td>v1.26.4          </td></tr>\\n<tr><td>aws       </td><td>nasa-veda              </td><td>v1.25.9         </td><td>v1.25.6          </td></tr>\\n<tr><td>aws       </td><td>gridsst                </td><td>v1.25.9         </td><td>v1.25.6          </td></tr>\\n<tr><td>gcp       </td><td>cloudbank              </td><td>v1.26.4         </td><td>v1.26.4          </td></tr>\\n<tr><td>aws       </td><td>smithsonian            </td><td>v1.25.9         </td><td>v1.25.7          </td></tr>\\n<tr><td>gcp       </td><td>meom-ige               </td><td>v1.26.4         </td><td>v1.26.4          </td></tr>\\n<tr><td>gcp       </td><td>pangeo-hubs            </td><td>v1.26.4         </td><td>v1.26.4          </td></tr>\\n<tr><td>gcp       </td><td>awi-ciroh              </td><td>v1.25.8         </td><td>v1.25.6          </td></tr>\\n<tr><td>aws       </td><td>ubc-eoas               </td><td>v1.24.13        </td><td>v1.24.7          </td></tr>\\n<tr><td>aws       </td><td>openscapes             </td><td>v1.24.13        </td><td>v1.24.9          </td></tr>\\n<tr><td>kubeconfig</td><td>utoronto               </td><td>v1.26.3         </td><td>v1.26.3          </td></tr>\\n<tr><td>aws       </td><td>carbonplan             </td><td>v1.24.13        </td><td>v1.24.7          </td></tr>\\n<tr><td>gcp       </td><td>2i2c-uk                </td><td>v1.24.12        </td><td>v1.24.5          </td></tr>\\n<tr><td>aws       </td><td>jupyter-meets-the-earth</td><td>v1.25.9         </td><td>v1.25.7          </td></tr>\\n<tr><td>gcp       </td><td>m2lines                </td><td>v1.24.12        </td><td>v1.24.5          </td></tr>\\n<tr><td>aws       </td><td>2i2c-aws-us            </td><td>v1.25.9         </td><td>v1.25.6          </td></tr>\\n</tbody>\\n</table>'"
      ]
     },
     "execution_count": 4,
     "metadata": {},
     "output_type": "execute_result"
    }
   ],
   "source": [
    "headers = ('provider', 'cluster', 'master version', 'node version(s)')\n",
    "tabulate([\n",
    "    (version['provider'], name, version['master'], ','.join(version['nodes']))\n",
    "    for name, version in versions.items()\n",
    "], headers, tablefmt=\"html\")\n"
   ]
  },
  {
   "cell_type": "code",
   "execution_count": null,
   "id": "ce6a460e-61ed-46b4-a2c3-b0db2e54540d",
   "metadata": {
    "papermill": {
     "duration": 0.001883,
     "end_time": "2023-06-24T06:04:38.330815",
     "exception": false,
     "start_time": "2023-06-24T06:04:38.328932",
     "status": "completed"
    },
    "tags": []
   },
   "outputs": [],
   "source": []
  }
 ],
 "metadata": {
  "kernelspec": {
   "display_name": "Python 3 (ipykernel)",
   "language": "python",
   "name": "python3"
  },
  "language_info": {
   "codemirror_mode": {
    "name": "ipython",
    "version": 3
   },
   "file_extension": ".py",
   "mimetype": "text/x-python",
   "name": "python",
   "nbconvert_exporter": "python",
   "pygments_lexer": "ipython3",
   "version": "3.11.4"
  },
  "papermill": {
   "default_parameters": {},
   "duration": 91.731825,
   "end_time": "2023-06-24T06:04:38.549759",
   "environment_variables": {},
   "exception": null,
   "input_path": "/home/runner/work/infrastructure/infrastructure/reports/kubernetes-versions.ipynb",
   "output_path": "/tmp/tmpmsan0hza/kubernetes-versions/2023/06/24.ipynb",
   "parameters": {},
   "start_time": "2023-06-24T06:03:06.817934",
   "version": "2.4.0"
  }
 },
 "nbformat": 4,
 "nbformat_minor": 5
}